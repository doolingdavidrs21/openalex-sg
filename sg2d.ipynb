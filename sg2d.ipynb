{
 "cells": [
  {
   "cell_type": "code",
   "execution_count": 2,
   "id": "01de2d13-782c-4eb7-8db3-4ee655ebb945",
   "metadata": {},
   "outputs": [],
   "source": [
    "from pyalex import (\n",
    "    Works, Authors, Sources,\n",
    "    Institutions, Concepts, Publishers, Funders\n",
    ")\n",
    "import pyalex\n",
    "import pandas as pd\n",
    "import numpy as np\n",
    "pyalex.config.email = \"david@rs21.io\"\n",
    "\n",
    "from flair.embeddings import DocumentPoolEmbeddings\n",
    "from flair.data import Sentence\n",
    "from flair.embeddings import SentenceTransformerDocumentEmbeddings\n",
    "\n",
    "EMBEDDING_MODEL_1 = \"all-mpnet-base-v2\" \n",
    "\n",
    "# this one is also good: all-MiniLM-L6-v2\n",
    "EMBEDDING_MODEL_2 = \"all-MiniLM-L6-v2\"\n",
    "SENT_EMBEDDINGS_1 = SentenceTransformerDocumentEmbeddings(EMBEDDING_MODEL_1)\n",
    "SENT_EMBEDDINGS_2 = SentenceTransformerDocumentEmbeddings(EMBEDDING_MODEL_2)\n",
    "DOC_EMBEDDINGS= DocumentPoolEmbeddings([SENT_EMBEDDINGS_2])\n",
    "\n",
    "import torch\n",
    "from tqdm import tqdm\n",
    "import yake\n",
    "import umap.umap_ as umap\n",
    "from sklearn import metrics\n",
    "import matplotlib.pyplot as plt\n",
    "from sklearn.mixture import GaussianMixture as GMM\n",
    "import altair as alt\n",
    "import math\n",
    "import plotly.express as px\n",
    "import textwrap"
   ]
  },
  {
   "cell_type": "code",
   "execution_count": 3,
   "id": "29367827-67d0-44b0-a176-d87da18cca3e",
   "metadata": {},
   "outputs": [],
   "source": [
    "def process_works_list(worklist:list):\n",
    "    \"\"\"\n",
    "    transforms the \n",
    "    works list into a dataframe.\n",
    "    \"\"\"\n",
    "    abstracts_dict = {h[\"id\"]:h[\"abstract\"] for h in worklist}\n",
    "    df = pd.DataFrame.from_records(worklist)\n",
    "    del df['abstract_inverted_index']\n",
    "    df['abstract'] = df['id'].map(abstracts_dict)\n",
    "   # df['author_affils'] = df['authorships'].apply(get_authors_and_affils)\n",
    "    return df"
   ]
  },
  {
   "cell_type": "code",
   "execution_count": 9,
   "id": "8e68e659-fbf7-449e-af4a-25bbf533abcb",
   "metadata": {},
   "outputs": [],
   "source": [
    "def get_sg_frame():\n",
    "    \"\"\"\n",
    "    get all works from the given instituion id\n",
    "    \"\"\"\n",
    "    pager = Works().filter(authorships={\"institutions\": {\"country_code\": \"SG\"}}).\\\n",
    "    filter(publication_year='>2021').\\\n",
    "    paginate(per_page=200, n_max = 60_000)\n",
    "    df = pd.DataFrame()\n",
    "    for page in tqdm(pager):\n",
    "      #  print(len(page))\n",
    "        dfpage = process_works_list(page)\n",
    "        df = pd.concat([df, dfpage], ignore_index=True)\n",
    "        df.drop_duplicates(subset='id', keep='first',inplace=True)\n",
    "    return df"
   ]
  },
  {
   "cell_type": "code",
   "execution_count": 10,
   "id": "06ba3ba0-ef98-4889-8c7c-bf4805b23547",
   "metadata": {},
   "outputs": [
    {
     "name": "stderr",
     "output_type": "stream",
     "text": [
      "241it [07:40,  1.91s/it]\n"
     ]
    }
   ],
   "source": [
    "dftop = get_sg_frame()"
   ]
  },
  {
   "cell_type": "code",
   "execution_count": 11,
   "id": "c0bab87f-90c6-487d-b3e7-ca8d8e1f511b",
   "metadata": {},
   "outputs": [
    {
     "name": "stdout",
     "output_type": "stream",
     "text": [
      "(48099, 40)\n"
     ]
    }
   ],
   "source": [
    "dftop.drop_duplicates(subset='id', keep='first', \n",
    "                      inplace=True)\n",
    "\n",
    "dftop.set_index('id', inplace=True, drop=False)\n",
    "\n",
    "dfall = dftop\n",
    "print(dfall.shape)\n",
    "\n",
    "dfall['content'] = dfall['title'] + \". \" + dfall['abstract']\n",
    "\n",
    "dfrecords = dfall[~dfall['content'].isna()].copy()"
   ]
  },
  {
   "cell_type": "code",
   "execution_count": 12,
   "id": "903745c5-ecb6-418f-9dd9-2e503a180b5e",
   "metadata": {},
   "outputs": [],
   "source": [
    "def get_keywords(text:str, top:int=7, stopwords=None):\n",
    "    \"\"\"\n",
    "    takes a blob of text and \n",
    "    returns the top **top** \n",
    "    keywords as a list\n",
    "    \"\"\"\n",
    "    kw_extractor = yake.KeywordExtractor(top=top, stopwords=stopwords)\n",
    "    keywords = kw_extractor.extract_keywords(text)\n",
    "    return [p[0] for p in keywords]"
   ]
  },
  {
   "cell_type": "code",
   "execution_count": 13,
   "id": "82e9a31f-3af9-4240-bc7e-642f1c9848d5",
   "metadata": {},
   "outputs": [],
   "source": [
    "def get_top_concepts(concept_list:list,score:float=.6):\n",
    "    \"\"\"\n",
    "    takes a list of concept dictionaries \n",
    "    returns the top **top** display_names;\n",
    "    concepts whose score is >= score\n",
    "    \"\"\"\n",
    "    return [c['display_name'] for c in concept_list if c['score'] >= score]"
   ]
  },
  {
   "cell_type": "code",
   "execution_count": 14,
   "id": "688b212e-668d-4b83-ad8a-11c675ae2a50",
   "metadata": {},
   "outputs": [],
   "source": [
    "dfrecords['keywords'] = dfrecords['content'].apply(get_keywords)\n",
    "dfrecords['top_concepts'] = dfrecords['concepts'].apply(get_top_concepts)"
   ]
  },
  {
   "cell_type": "code",
   "execution_count": 15,
   "id": "a7ad31b4-4dec-4196-8857-fd38c4dc1f0f",
   "metadata": {},
   "outputs": [],
   "source": [
    "texts = dfrecords['content'].str.lower().values.tolist()\n",
    "#dfrecords.to_csv('jamming.csv')\n"
   ]
  },
  {
   "cell_type": "code",
   "execution_count": 16,
   "id": "cefa2cd3-7d1c-4453-9efe-ccb043cbaf21",
   "metadata": {},
   "outputs": [],
   "source": [
    "def get_content_embeddings(dfrecords:pd.DataFrame) -> pd.DataFrame:\n",
    "    \"\"\"\n",
    "    passes the preprocessed mitigation strings\n",
    "    data through the embedding model to produce the vector\n",
    "    space representation of each pet mitigation.\n",
    "    \"\"\"\n",
    "    sent = Sentence(\"The grass is green.\")\n",
    "    DOC_EMBEDDINGS.embed(sent)\n",
    "    texts = dfrecords[\"content\"].str.lower().values.tolist()\n",
    "    all_descriptions = np.empty((len(texts), len(sent.embedding)))\n",
    "    for i in tqdm(range(len(texts))):\n",
    "        sent = Sentence(texts[i])\n",
    "        DOC_EMBEDDINGS.embed(sent)\n",
    "        all_descriptions[i, :] = sent.embedding.cpu().numpy()\n",
    "        # gc.collect()\n",
    "        torch.cuda.empty_cache()\n",
    "    dfcontentvectors = pd.DataFrame.from_records(all_descriptions, index=dfrecords.index)\n",
    "    return dfcontentvectors"
   ]
  },
  {
   "cell_type": "code",
   "execution_count": 17,
   "id": "9c1fc7c4-4ba5-4d07-a19e-09e863eb63e6",
   "metadata": {},
   "outputs": [
    {
     "name": "stderr",
     "output_type": "stream",
     "text": [
      "100%|███████████████████████████████████████████████████████████████████| 41813/41813 [11:54<00:00, 58.49it/s]\n"
     ]
    }
   ],
   "source": [
    "dfcontentvectors = get_content_embeddings(dfrecords)\n"
   ]
  },
  {
   "cell_type": "code",
   "execution_count": 18,
   "id": "ad4baad8-d392-4470-916c-da8ab862fc29",
   "metadata": {},
   "outputs": [],
   "source": [
    "#umap.UMAP?\n",
    "N_COMPONENTS = 2 # can visualize this way\n",
    "umap_reducer = umap.UMAP(n_components=N_COMPONENTS,\n",
    "                       #  metric='euclidean')\n",
    "                         random_state=1234,\n",
    "                         metric='cosine')  # can experiment with this metric as well as the other \n",
    "# parameters\n",
    "# to see what other literature is in the same information space, we need to keep this umap_reducer \n",
    "# object as well as the gmm model below.\n",
    "\n",
    "# Apply UMAP to the vectorized strings\n",
    "reduced_vectors = umap_reducer.fit_transform(dfcontentvectors.to_numpy())\n",
    "dfreduced = pd.DataFrame.from_records(reduced_vectors, \n",
    "                index=dfcontentvectors.index)\n",
    "dfreduced.columns = ['x','y']"
   ]
  },
  {
   "cell_type": "code",
   "execution_count": 19,
   "id": "191eacb1-2080-4c79-a6a5-5001eb1b241a",
   "metadata": {},
   "outputs": [
    {
     "name": "stdout",
     "output_type": "stream",
     "text": [
      "huggingface/tokenizers: The current process just got forked, after parallelism has already been used. Disabling parallelism to avoid deadlocks...\n",
      "To disable this warning, you can either:\n",
      "\t- Avoid using `tokenizers` before the fork if possible\n",
      "\t- Explicitly set the environment variable TOKENIZERS_PARALLELISM=(true | false)\n",
      "huggingface/tokenizers: The current process just got forked, after parallelism has already been used. Disabling parallelism to avoid deadlocks...\n",
      "To disable this warning, you can either:\n",
      "\t- Avoid using `tokenizers` before the fork if possible\n",
      "\t- Explicitly set the environment variable TOKENIZERS_PARALLELISM=(true | false)\n",
      "huggingface/tokenizers: The current process just got forked, after parallelism has already been used. Disabling parallelism to avoid deadlocks...\n",
      "To disable this warning, you can either:\n",
      "\t- Avoid using `tokenizers` before the fork if possible\n",
      "\t- Explicitly set the environment variable TOKENIZERS_PARALLELISM=(true | false)\n",
      "huggingface/tokenizers: The current process just got forked, after parallelism has already been used. Disabling parallelism to avoid deadlocks...\n",
      "To disable this warning, you can either:\n",
      "\t- Avoid using `tokenizers` before the fork if possible\n",
      "\t- Explicitly set the environment variable TOKENIZERS_PARALLELISM=(true | false)\n",
      "huggingface/tokenizers: The current process just got forked, after parallelism has already been used. Disabling parallelism to avoid deadlocks...\n",
      "To disable this warning, you can either:\n",
      "\t- Avoid using `tokenizers` before the fork if possible\n",
      "\t- Explicitly set the environment variable TOKENIZERS_PARALLELISM=(true | false)\n"
     ]
    }
   ],
   "source": [
    "import hdbscan\n",
    "\n",
    "hdbscan_args = {'min_cluster_size': 15,\n",
    "                            'metric': 'euclidean',\n",
    "                            'cluster_selection_method': 'eom',\n",
    "                            'cluster_selection_epsilon': 0.1\n",
    "               }\n",
    "\n",
    "cluster = hdbscan.HDBSCAN(**hdbscan_args).fit(dfreduced[['x','y']].to_numpy())\n",
    "\n",
    "dfreduced['cluster'] = cluster.labels_\n",
    "dfreduced['probability'] = cluster.probabilities_\n",
    "\n",
    "dfpapers = dfrecords.merge(dfreduced, left_index=True,\n",
    "                           right_index=True)"
   ]
  },
  {
   "cell_type": "code",
   "execution_count": 20,
   "id": "7b40352b-4c4e-4e47-903c-b6114d6d6c62",
   "metadata": {},
   "outputs": [
    {
     "data": {
      "text/html": [
       "<div>\n",
       "<style scoped>\n",
       "    .dataframe tbody tr th:only-of-type {\n",
       "        vertical-align: middle;\n",
       "    }\n",
       "\n",
       "    .dataframe tbody tr th {\n",
       "        vertical-align: top;\n",
       "    }\n",
       "\n",
       "    .dataframe thead th {\n",
       "        text-align: right;\n",
       "    }\n",
       "</style>\n",
       "<table border=\"1\" class=\"dataframe\">\n",
       "  <thead>\n",
       "    <tr style=\"text-align: right;\">\n",
       "      <th></th>\n",
       "      <th>id</th>\n",
       "      <th>doi</th>\n",
       "      <th>title</th>\n",
       "      <th>display_name</th>\n",
       "      <th>publication_year</th>\n",
       "      <th>publication_date</th>\n",
       "      <th>ids</th>\n",
       "      <th>language</th>\n",
       "      <th>primary_location</th>\n",
       "      <th>type</th>\n",
       "      <th>...</th>\n",
       "      <th>created_date</th>\n",
       "      <th>is_authors_truncated</th>\n",
       "      <th>abstract</th>\n",
       "      <th>content</th>\n",
       "      <th>keywords</th>\n",
       "      <th>top_concepts</th>\n",
       "      <th>x</th>\n",
       "      <th>y</th>\n",
       "      <th>cluster</th>\n",
       "      <th>probability</th>\n",
       "    </tr>\n",
       "  </thead>\n",
       "  <tbody>\n",
       "    <tr>\n",
       "      <th>0</th>\n",
       "      <td>https://openalex.org/W4283271244</td>\n",
       "      <td>https://doi.org/10.1038/s41375-022-01613-1</td>\n",
       "      <td>The 5th edition of the World Health Organizati...</td>\n",
       "      <td>The 5th edition of the World Health Organizati...</td>\n",
       "      <td>2022</td>\n",
       "      <td>2022-06-22</td>\n",
       "      <td>{'openalex': 'https://openalex.org/W4283271244...</td>\n",
       "      <td>en</td>\n",
       "      <td>{'is_oa': True, 'landing_page_url': 'https://d...</td>\n",
       "      <td>article</td>\n",
       "      <td>...</td>\n",
       "      <td>2022-06-23</td>\n",
       "      <td>NaN</td>\n",
       "      <td>Abstract The upcoming 5th edition of the World...</td>\n",
       "      <td>The 5th edition of the World Health Organizati...</td>\n",
       "      <td>[World Health Organization, Health Organizatio...</td>\n",
       "      <td>[Histiocyte, Myeloid]</td>\n",
       "      <td>8.964540</td>\n",
       "      <td>-0.496561</td>\n",
       "      <td>-1</td>\n",
       "      <td>0.0</td>\n",
       "    </tr>\n",
       "    <tr>\n",
       "      <th>1</th>\n",
       "      <td>https://openalex.org/W3003265726</td>\n",
       "      <td>https://doi.org/10.1109/tnnls.2021.3070843</td>\n",
       "      <td>A Survey on Knowledge Graphs: Representation, ...</td>\n",
       "      <td>A Survey on Knowledge Graphs: Representation, ...</td>\n",
       "      <td>2022</td>\n",
       "      <td>2022-02-01</td>\n",
       "      <td>{'openalex': 'https://openalex.org/W3003265726...</td>\n",
       "      <td>en</td>\n",
       "      <td>{'is_oa': False, 'landing_page_url': 'https://...</td>\n",
       "      <td>article</td>\n",
       "      <td>...</td>\n",
       "      <td>2020-02-07</td>\n",
       "      <td>NaN</td>\n",
       "      <td>Human knowledge provides a formal understandin...</td>\n",
       "      <td>A Survey on Knowledge Graphs: Representation, ...</td>\n",
       "      <td>[Knowledge, knowledge graph, knowledge acquisi...</td>\n",
       "      <td>[Computer science]</td>\n",
       "      <td>6.940184</td>\n",
       "      <td>9.486319</td>\n",
       "      <td>-1</td>\n",
       "      <td>0.0</td>\n",
       "    </tr>\n",
       "    <tr>\n",
       "      <th>2</th>\n",
       "      <td>https://openalex.org/W4283381496</td>\n",
       "      <td>https://doi.org/10.1038/s41375-022-01620-2</td>\n",
       "      <td>The 5th edition of the World Health Organizati...</td>\n",
       "      <td>The 5th edition of the World Health Organizati...</td>\n",
       "      <td>2022</td>\n",
       "      <td>2022-06-22</td>\n",
       "      <td>{'openalex': 'https://openalex.org/W4283381496...</td>\n",
       "      <td>en</td>\n",
       "      <td>{'is_oa': True, 'landing_page_url': 'https://d...</td>\n",
       "      <td>article</td>\n",
       "      <td>...</td>\n",
       "      <td>2022-06-25</td>\n",
       "      <td>NaN</td>\n",
       "      <td>We herein present an overview of the upcoming ...</td>\n",
       "      <td>The 5th edition of the World Health Organizati...</td>\n",
       "      <td>[World Health Organization, Health Organizatio...</td>\n",
       "      <td>[]</td>\n",
       "      <td>8.992878</td>\n",
       "      <td>-0.450357</td>\n",
       "      <td>-1</td>\n",
       "      <td>0.0</td>\n",
       "    </tr>\n",
       "    <tr>\n",
       "      <th>3</th>\n",
       "      <td>https://openalex.org/W4220838968</td>\n",
       "      <td>https://doi.org/10.1038/s41586-022-04492-9</td>\n",
       "      <td>Reproducible brain-wide association studies re...</td>\n",
       "      <td>Reproducible brain-wide association studies re...</td>\n",
       "      <td>2022</td>\n",
       "      <td>2022-03-16</td>\n",
       "      <td>{'openalex': 'https://openalex.org/W4220838968...</td>\n",
       "      <td>en</td>\n",
       "      <td>{'is_oa': True, 'landing_page_url': 'https://d...</td>\n",
       "      <td>article</td>\n",
       "      <td>...</td>\n",
       "      <td>2022-04-03</td>\n",
       "      <td>NaN</td>\n",
       "      <td>Magnetic resonance imaging (MRI) has transform...</td>\n",
       "      <td>Reproducible brain-wide association studies re...</td>\n",
       "      <td>[MRI, BWAS, functional MRI, task functional MR...</td>\n",
       "      <td>[Sample size determination, Neuroimaging, Repl...</td>\n",
       "      <td>8.807067</td>\n",
       "      <td>4.272074</td>\n",
       "      <td>-1</td>\n",
       "      <td>0.0</td>\n",
       "    </tr>\n",
       "    <tr>\n",
       "      <th>4</th>\n",
       "      <td>https://openalex.org/W4310461604</td>\n",
       "      <td>https://doi.org/10.1056/nejmoa2212948</td>\n",
       "      <td>Lecanemab in Early Alzheimer’s Disease</td>\n",
       "      <td>Lecanemab in Early Alzheimer’s Disease</td>\n",
       "      <td>2023</td>\n",
       "      <td>2023-01-05</td>\n",
       "      <td>{'openalex': 'https://openalex.org/W4310461604...</td>\n",
       "      <td>en</td>\n",
       "      <td>{'is_oa': True, 'landing_page_url': 'https://d...</td>\n",
       "      <td>article</td>\n",
       "      <td>...</td>\n",
       "      <td>2022-12-10</td>\n",
       "      <td>NaN</td>\n",
       "      <td>The accumulation of soluble and insoluble aggr...</td>\n",
       "      <td>Lecanemab in Early Alzheimer’s Disease. The ac...</td>\n",
       "      <td>[Alzheimer ’s Disease, Early Alzheimer, Diseas...</td>\n",
       "      <td>[Medicine, Disease, Alzheimer's disease, Monoc...</td>\n",
       "      <td>8.518635</td>\n",
       "      <td>1.673271</td>\n",
       "      <td>-1</td>\n",
       "      <td>0.0</td>\n",
       "    </tr>\n",
       "  </tbody>\n",
       "</table>\n",
       "<p>5 rows × 47 columns</p>\n",
       "</div>"
      ],
      "text/plain": [
       "                                 id   \n",
       "0  https://openalex.org/W4283271244  \\\n",
       "1  https://openalex.org/W3003265726   \n",
       "2  https://openalex.org/W4283381496   \n",
       "3  https://openalex.org/W4220838968   \n",
       "4  https://openalex.org/W4310461604   \n",
       "\n",
       "                                          doi   \n",
       "0  https://doi.org/10.1038/s41375-022-01613-1  \\\n",
       "1  https://doi.org/10.1109/tnnls.2021.3070843   \n",
       "2  https://doi.org/10.1038/s41375-022-01620-2   \n",
       "3  https://doi.org/10.1038/s41586-022-04492-9   \n",
       "4       https://doi.org/10.1056/nejmoa2212948   \n",
       "\n",
       "                                               title   \n",
       "0  The 5th edition of the World Health Organizati...  \\\n",
       "1  A Survey on Knowledge Graphs: Representation, ...   \n",
       "2  The 5th edition of the World Health Organizati...   \n",
       "3  Reproducible brain-wide association studies re...   \n",
       "4             Lecanemab in Early Alzheimer’s Disease   \n",
       "\n",
       "                                        display_name  publication_year   \n",
       "0  The 5th edition of the World Health Organizati...              2022  \\\n",
       "1  A Survey on Knowledge Graphs: Representation, ...              2022   \n",
       "2  The 5th edition of the World Health Organizati...              2022   \n",
       "3  Reproducible brain-wide association studies re...              2022   \n",
       "4             Lecanemab in Early Alzheimer’s Disease              2023   \n",
       "\n",
       "  publication_date                                                ids   \n",
       "0       2022-06-22  {'openalex': 'https://openalex.org/W4283271244...  \\\n",
       "1       2022-02-01  {'openalex': 'https://openalex.org/W3003265726...   \n",
       "2       2022-06-22  {'openalex': 'https://openalex.org/W4283381496...   \n",
       "3       2022-03-16  {'openalex': 'https://openalex.org/W4220838968...   \n",
       "4       2023-01-05  {'openalex': 'https://openalex.org/W4310461604...   \n",
       "\n",
       "  language                                   primary_location     type  ...   \n",
       "0       en  {'is_oa': True, 'landing_page_url': 'https://d...  article  ...  \\\n",
       "1       en  {'is_oa': False, 'landing_page_url': 'https://...  article  ...   \n",
       "2       en  {'is_oa': True, 'landing_page_url': 'https://d...  article  ...   \n",
       "3       en  {'is_oa': True, 'landing_page_url': 'https://d...  article  ...   \n",
       "4       en  {'is_oa': True, 'landing_page_url': 'https://d...  article  ...   \n",
       "\n",
       "  created_date is_authors_truncated   \n",
       "0   2022-06-23                  NaN  \\\n",
       "1   2020-02-07                  NaN   \n",
       "2   2022-06-25                  NaN   \n",
       "3   2022-04-03                  NaN   \n",
       "4   2022-12-10                  NaN   \n",
       "\n",
       "                                            abstract   \n",
       "0  Abstract The upcoming 5th edition of the World...  \\\n",
       "1  Human knowledge provides a formal understandin...   \n",
       "2  We herein present an overview of the upcoming ...   \n",
       "3  Magnetic resonance imaging (MRI) has transform...   \n",
       "4  The accumulation of soluble and insoluble aggr...   \n",
       "\n",
       "                                             content   \n",
       "0  The 5th edition of the World Health Organizati...  \\\n",
       "1  A Survey on Knowledge Graphs: Representation, ...   \n",
       "2  The 5th edition of the World Health Organizati...   \n",
       "3  Reproducible brain-wide association studies re...   \n",
       "4  Lecanemab in Early Alzheimer’s Disease. The ac...   \n",
       "\n",
       "                                            keywords   \n",
       "0  [World Health Organization, Health Organizatio...  \\\n",
       "1  [Knowledge, knowledge graph, knowledge acquisi...   \n",
       "2  [World Health Organization, Health Organizatio...   \n",
       "3  [MRI, BWAS, functional MRI, task functional MR...   \n",
       "4  [Alzheimer ’s Disease, Early Alzheimer, Diseas...   \n",
       "\n",
       "                                        top_concepts         x         y   \n",
       "0                              [Histiocyte, Myeloid]  8.964540 -0.496561  \\\n",
       "1                                 [Computer science]  6.940184  9.486319   \n",
       "2                                                 []  8.992878 -0.450357   \n",
       "3  [Sample size determination, Neuroimaging, Repl...  8.807067  4.272074   \n",
       "4  [Medicine, Disease, Alzheimer's disease, Monoc...  8.518635  1.673271   \n",
       "\n",
       "  cluster  probability  \n",
       "0      -1          0.0  \n",
       "1      -1          0.0  \n",
       "2      -1          0.0  \n",
       "3      -1          0.0  \n",
       "4      -1          0.0  \n",
       "\n",
       "[5 rows x 47 columns]"
      ]
     },
     "execution_count": 20,
     "metadata": {},
     "output_type": "execute_result"
    }
   ],
   "source": [
    "#help(dfpapers.explode)\n",
    "del dfpapers['id']\n",
    "dfstart = dfpapers.reset_index()\n",
    "dfstart.head()"
   ]
  },
  {
   "cell_type": "code",
   "execution_count": 21,
   "id": "3f13375d-7265-4765-9814-74df58ffae63",
   "metadata": {},
   "outputs": [
    {
     "data": {
      "text/plain": [
       "(41813, 47)"
      ]
     },
     "execution_count": 21,
     "metadata": {},
     "output_type": "execute_result"
    }
   ],
   "source": [
    "dfstart.shape"
   ]
  },
  {
   "cell_type": "code",
   "execution_count": 22,
   "id": "cffa037a-a36a-4ac9-88cb-cbdcac4a63bb",
   "metadata": {},
   "outputs": [
    {
     "data": {
      "text/plain": [
       "((295703, 47), (41813, 47))"
      ]
     },
     "execution_count": 22,
     "metadata": {},
     "output_type": "execute_result"
    }
   ],
   "source": [
    "dfbig = dfstart.explode(column='authorships')\n",
    "dfbig.shape, dfstart.shape"
   ]
  },
  {
   "cell_type": "code",
   "execution_count": 23,
   "id": "4fd1052f-034a-46ba-b8b4-d3c2bbde7232",
   "metadata": {},
   "outputs": [],
   "source": [
    "def add_extra_to_authorships(row: pd.DataFrame):\n",
    "    \"\"\"\n",
    "    row[authorships] is a dictionary;\n",
    "    add in the id key to that dictionary\n",
    "    whose value is row[id]\n",
    "    \"\"\"\n",
    "    complete_dict = row[\"authorships\"]\n",
    "   # assert type(complete_dict) == dict\n",
    "    #print(type(complete_dict))\n",
    "    if type(complete_dict) == dict:\n",
    "        complete_dict[\"id\"] = row[\"id\"]\n",
    "        complete_dict[\"x\"] = row[\"x\"]\n",
    "        complete_dict[\"y\"] = row[\"y\"]\n",
    "        complete_dict[\"cluster\"] = row[\"cluster\"]\n",
    "        complete_dict[\"cluster_score\"] = row[\"probability\"]\n",
    "        complete_dict[\"title\"] = row[\"title\"]\n",
    "        complete_dict[\"abstract\"] = row[\"abstract\"]\n",
    "        complete_dict[\"doi\"] = row[\"doi\"]\n",
    "        complete_dict[\"publication_date\"] = row[\"publication_date\"]\n",
    "        complete_dict[\"publication_year\"] = row[\"publication_year\"]\n",
    "        complete_dict[\"grants\"] = row[\"grants\"]\n",
    "        complete_dict[\"locations\"] = row[\"locations\"]\n",
    "        return complete_dict\n",
    "    else:\n",
    "        return row[\"authorships\"]"
   ]
  },
  {
   "cell_type": "code",
   "execution_count": 24,
   "id": "8e96a6a7-16fb-4e12-b6b2-dcdb15fdb36a",
   "metadata": {},
   "outputs": [],
   "source": [
    "dfbig['big_authorships'] = dfbig.apply(add_extra_to_authorships, axis=1)"
   ]
  },
  {
   "cell_type": "code",
   "execution_count": 25,
   "id": "0277df01-6865-4fff-85aa-58bad28a015c",
   "metadata": {},
   "outputs": [],
   "source": [
    "#dfbig['authorships'].tolist()\n",
    "bigvals = dfbig['authorships'].tolist()"
   ]
  },
  {
   "cell_type": "code",
   "execution_count": 26,
   "id": "884a2035-4d46-4d13-8e30-b0054ea7d893",
   "metadata": {},
   "outputs": [],
   "source": [
    "dictvals = [c for c in bigvals if type(c) != float]\n"
   ]
  },
  {
   "cell_type": "code",
   "execution_count": 27,
   "id": "53581f34-128a-4f00-a0c3-d7b0e7326533",
   "metadata": {},
   "outputs": [],
   "source": [
    "dftriple = pd.json_normalize(dictvals,\n",
    "                  record_path=['institutions'],\n",
    "                  meta=['id','raw_affiliation_string','author_position', 'doi',\n",
    "                        'title','abstract','publication_date', 'publication_year',\n",
    "                        'grants','locations',\n",
    "                        'is_corrresponding','x','y','cluster','cluster_score',\n",
    "                       ['author','id'], ['author', 'display_name'],\n",
    "                       ['author','orcid']],\n",
    "                  errors='ignore',\n",
    "                  sep='_',\n",
    "                  meta_prefix='paper_',\n",
    "                #  record_prefix='author_'\n",
    "                 )"
   ]
  },
  {
   "cell_type": "code",
   "execution_count": 28,
   "id": "1f007dfc-3080-4961-a9db-a12218157e3d",
   "metadata": {},
   "outputs": [],
   "source": [
    "dftopics = dfcontentvectors.copy()\n",
    "dftopics['cluster'] = dfpapers['cluster']\n",
    "dfmeantopics = dftopics.groupby('cluster').mean().copy()\n",
    "reduced_topics = umap_reducer.transform(dfmeantopics.to_numpy())\n",
    "df_reduced_topics = pd.DataFrame.from_records(reduced_topics, \n",
    "                index=dfmeantopics.index)\n",
    "df_reduced_topics.columns = ['x','y']\n",
    "df_reduced_topics['topic'] = df_reduced_topics.index\n",
    "df_reduced_topics.head()\n",
    "\n",
    "def get_cluster_concepts(topic_num:int, n:int=20):\n",
    "    \"\"\"\n",
    "    takes an integer topic_num corresponding to a \n",
    "    given topic number and\n",
    "    returns the list of top n occuring concepts\n",
    "    from the top_concept field\n",
    "    \"\"\"\n",
    "    top_concepts = dfpapers[dfpapers['cluster'] == topic_num]['top_concepts'].tolist()\n",
    "    flat_concepts = [item for sublist in top_concepts for item in sublist]\n",
    "    concepts_dict = {c:flat_concepts.count(c) for c in flat_concepts}\n",
    "    sorted_concepts = sorted(concepts_dict.items(), key=lambda x:x[1], reverse=True)\n",
    "    return [c[0] for c in sorted_concepts][:n]\n",
    "\n",
    "def get_yake_cluster_phrases(topic_num:int, n:int=20):\n",
    "    \"\"\"\n",
    "    takes in an integer n corresponding\n",
    "    to a given topic number and\n",
    "    returns the list of keyphrases (TopicRank method)\n",
    "    \"\"\"\n",
    "    documents = dfpapers[dfpapers['cluster'] == topic_num]['content'].tolist()\n",
    "    topic_input = \". \".join(documents)\n",
    "    #extractor = pke.unsupervised.TextRank()\n",
    "    kw_extractor = yake.KeywordExtractor(top=n, stopwords=None)\n",
    "    keywords = kw_extractor.extract_keywords(topic_input)\n",
    "    #extractor.load_document(input=topic_input,\n",
    "    #                    language='en',\n",
    "    #                    normalization=None)\n",
    "\n",
    "    #extractor.candidate_selection()\n",
    "\n",
    "    #window = 2\n",
    "    #use_stems = False\n",
    "    #extractor.candidate_weighting(window=window,\n",
    "    #                          use_stems=use_stems)\n",
    "    #extractor.candidate_weighting()\n",
    "    #threshold = 0.8\n",
    "   # keyphrases = extractor.get_n_best(n=20, threshold=threshold)\n",
    "    #keyphrases = extractor.get_n_best(n=n)\n",
    "    return [p[0] for p in keywords]\n",
    "\n",
    "wikiconcepts = df_reduced_topics['topic'].apply(get_cluster_concepts)\n",
    "\n",
    "wikikeywords = df_reduced_topics['topic'].apply(get_yake_cluster_phrases)\n",
    "\n",
    "dfpapers['id'] = dfpapers.index\n",
    "dfinfo = dfpapers[['x','y','id','title','doi','cluster','grants',\n",
    "                   'locations',\n",
    "                 'publication_date','keywords','top_concepts']].copy()\n",
    "\n",
    "centroids = dfinfo.groupby('cluster')[['x','y']].mean().copy()\n",
    "centroids['concepts'] = wikiconcepts\n",
    "centroids['cluster'] = centroids.index\n",
    "centroids['keywords'] = wikikeywords"
   ]
  },
  {
   "cell_type": "code",
   "execution_count": 29,
   "id": "c80dbf5d-ea10-4530-84bf-59e13a3acfcf",
   "metadata": {},
   "outputs": [],
   "source": [
    "def wrap_it(x):\n",
    "    return \"<br>\".join(textwrap.wrap(x, width=40))\n",
    "   # return \"<br>\".join(textwrap.wrap(x.replace(r'\\s+', ' '), width=40))"
   ]
  },
  {
   "cell_type": "code",
   "execution_count": 30,
   "id": "e7647c89-031b-48e3-9007-7758223346ff",
   "metadata": {},
   "outputs": [],
   "source": [
    "centroids['wrapped_keywords'] = centroids['keywords'].apply(str).apply(wrap_it)\n",
    "centroids['wrapped_concepts'] = centroids['concepts'].apply(str).apply(wrap_it)"
   ]
  },
  {
   "cell_type": "code",
   "execution_count": 31,
   "id": "2e1a1b03-6a04-4dc0-bd8d-0760f47481da",
   "metadata": {},
   "outputs": [],
   "source": [
    "centroids.to_pickle('sgcentroids2d.pkl')"
   ]
  },
  {
   "cell_type": "code",
   "execution_count": 32,
   "id": "691ddeee-26e6-4823-942b-4312ff28449e",
   "metadata": {},
   "outputs": [],
   "source": [
    "dftriple.to_pickle('sgdftriple2d.pkl')"
   ]
  },
  {
   "cell_type": "code",
   "execution_count": 33,
   "id": "dc5515e2-1a75-46fd-8561-72b07f1388a1",
   "metadata": {},
   "outputs": [],
   "source": [
    "def get_affils_cluster_sort(dc:pd.DataFrame, cl:int):\n",
    "    \"\"\"\n",
    "    restricts the dataframe dc to cluster value cl\n",
    "    and returns the results grouped by id, ror sorted\n",
    "    by the some of probablity descending\n",
    "    \"\"\"\n",
    "    dg = dc[dc['paper_cluster'] == cl].copy()\n",
    "    print(cl)\n",
    "    dv = dg.groupby(['id','display_name','country_code',\n",
    "                     'type'])['paper_cluster_score'].sum().to_frame()\n",
    "    dv.sort_values('paper_cluster_score', ascending=False, inplace=True)\n",
    "    kw = centroids[centroids.cluster == cl]['keywords'].iloc[0]\n",
    "    return dv, kw"
   ]
  },
  {
   "cell_type": "code",
   "execution_count": 35,
   "id": "db3ab868-7732-43f7-9230-b31da53c9a3b",
   "metadata": {},
   "outputs": [
    {
     "name": "stdout",
     "output_type": "stream",
     "text": [
      "2\n",
      "['water', 'water demand management', 'urban water', 'water demand', 'urban water demand', 'water circularity', 'water supply', 'water security', 'water supply systems', 'urban water systems', 'water consumption', 'water systems', 'public water supply', 'urban water circularity', 'management', 'demand management', 'Social dilemmas', 'Private water supply', 'systems', 'water management']\n"
     ]
    },
    {
     "data": {
      "text/html": [
       "<div>\n",
       "<style scoped>\n",
       "    .dataframe tbody tr th:only-of-type {\n",
       "        vertical-align: middle;\n",
       "    }\n",
       "\n",
       "    .dataframe tbody tr th {\n",
       "        vertical-align: top;\n",
       "    }\n",
       "\n",
       "    .dataframe thead th {\n",
       "        text-align: right;\n",
       "    }\n",
       "</style>\n",
       "<table border=\"1\" class=\"dataframe\">\n",
       "  <thead>\n",
       "    <tr style=\"text-align: right;\">\n",
       "      <th></th>\n",
       "      <th></th>\n",
       "      <th></th>\n",
       "      <th></th>\n",
       "      <th>paper_cluster_score</th>\n",
       "    </tr>\n",
       "    <tr>\n",
       "      <th>id</th>\n",
       "      <th>display_name</th>\n",
       "      <th>country_code</th>\n",
       "      <th>type</th>\n",
       "      <th></th>\n",
       "    </tr>\n",
       "  </thead>\n",
       "  <tbody>\n",
       "    <tr>\n",
       "      <th>https://openalex.org/I165932596</th>\n",
       "      <th>National University of Singapore</th>\n",
       "      <th>SG</th>\n",
       "      <th>education</th>\n",
       "      <td>33.645859</td>\n",
       "    </tr>\n",
       "    <tr>\n",
       "      <th>https://openalex.org/I7882870</th>\n",
       "      <th>University of Glasgow</th>\n",
       "      <th>GB</th>\n",
       "      <th>education</th>\n",
       "      <td>9.921508</td>\n",
       "    </tr>\n",
       "    <tr>\n",
       "      <th>https://openalex.org/I60559429</th>\n",
       "      <th>Nazarbayev University</th>\n",
       "      <th>KZ</th>\n",
       "      <th>education</th>\n",
       "      <td>4.0</td>\n",
       "    </tr>\n",
       "    <tr>\n",
       "      <th>https://openalex.org/I107639228</th>\n",
       "      <th>University of Notre Dame</th>\n",
       "      <th>US</th>\n",
       "      <th>education</th>\n",
       "      <td>2.38811</td>\n",
       "    </tr>\n",
       "    <tr>\n",
       "      <th>https://openalex.org/I173304897</th>\n",
       "      <th>University of Granada</th>\n",
       "      <th>ES</th>\n",
       "      <th>education</th>\n",
       "      <td>2.0</td>\n",
       "    </tr>\n",
       "    <tr>\n",
       "      <th>https://openalex.org/I219193219</th>\n",
       "      <th>Purdue University West Lafayette</th>\n",
       "      <th>US</th>\n",
       "      <th>education</th>\n",
       "      <td>1.294605</td>\n",
       "    </tr>\n",
       "    <tr>\n",
       "      <th>https://openalex.org/I172675005</th>\n",
       "      <th>Nanyang Technological University</th>\n",
       "      <th>SG</th>\n",
       "      <th>education</th>\n",
       "      <td>1.250748</td>\n",
       "    </tr>\n",
       "    <tr>\n",
       "      <th>https://openalex.org/I55732556</th>\n",
       "      <th>Arizona State University</th>\n",
       "      <th>US</th>\n",
       "      <th>education</th>\n",
       "      <td>1.246665</td>\n",
       "    </tr>\n",
       "    <tr>\n",
       "      <th>https://openalex.org/I97018004</th>\n",
       "      <th>Stanford University</th>\n",
       "      <th>US</th>\n",
       "      <th>education</th>\n",
       "      <td>1.19934</td>\n",
       "    </tr>\n",
       "    <tr>\n",
       "      <th>https://openalex.org/I152815399</th>\n",
       "      <th>Singapore University of Technology and Design</th>\n",
       "      <th>SG</th>\n",
       "      <th>education</th>\n",
       "      <td>1.156923</td>\n",
       "    </tr>\n",
       "  </tbody>\n",
       "</table>\n",
       "</div>"
      ],
      "text/plain": [
       "                                                                                                     paper_cluster_score\n",
       "id                              display_name                                  country_code type                         \n",
       "https://openalex.org/I165932596 National University of Singapore              SG           education           33.645859\n",
       "https://openalex.org/I7882870   University of Glasgow                         GB           education            9.921508\n",
       "https://openalex.org/I60559429  Nazarbayev University                         KZ           education                 4.0\n",
       "https://openalex.org/I107639228 University of Notre Dame                      US           education             2.38811\n",
       "https://openalex.org/I173304897 University of Granada                         ES           education                 2.0\n",
       "https://openalex.org/I219193219 Purdue University West Lafayette              US           education            1.294605\n",
       "https://openalex.org/I172675005 Nanyang Technological University              SG           education            1.250748\n",
       "https://openalex.org/I55732556  Arizona State University                      US           education            1.246665\n",
       "https://openalex.org/I97018004  Stanford University                           US           education             1.19934\n",
       "https://openalex.org/I152815399 Singapore University of Technology and Design SG           education            1.156923"
      ]
     },
     "execution_count": 35,
     "metadata": {},
     "output_type": "execute_result"
    }
   ],
   "source": [
    "dv84, kw84 = get_affils_cluster_sort(dftriple, 2)\n",
    "print(kw84)\n",
    "dv84.head(10)"
   ]
  },
  {
   "cell_type": "code",
   "execution_count": 36,
   "id": "2579f0d0-bc7f-430d-bd1d-6f60cee111b7",
   "metadata": {},
   "outputs": [],
   "source": [
    "dfinfo = dfpapers[['x','y','id','title','doi','cluster','probability',\n",
    "                 'publication_date','grants','locations',\n",
    "                   'keywords','top_concepts']].copy()"
   ]
  },
  {
   "cell_type": "code",
   "execution_count": 37,
   "id": "8da7f789-2f46-4137-aabd-647313376b73",
   "metadata": {},
   "outputs": [],
   "source": [
    "pap_affils_dict = dftriple.groupby('paper_id')['paper_raw_affiliation_string'].\\\n",
    "apply(lambda x: ' | '.join(x.tolist()))\n",
    "\n",
    "#pap_authors_dict = dftriple.groupby('paper_id')['paper_author_display_name'].\\\n",
    "#apply(lambda x: ' | '.join(x.tolist()))"
   ]
  },
  {
   "cell_type": "code",
   "execution_count": 38,
   "id": "2fcbc879-8ef3-4868-a6c6-9fe64331e39b",
   "metadata": {},
   "outputs": [],
   "source": [
    "pap_authors_dict = dftriple.groupby('paper_id')['paper_author_display_name'].apply(lambda x: x.values)"
   ]
  },
  {
   "cell_type": "code",
   "execution_count": 39,
   "id": "4559e931-f65f-4b84-8bb7-b3ed2b6f978c",
   "metadata": {},
   "outputs": [],
   "source": [
    "dfinfo['affil_list'] = pap_affils_dict\n",
    "dfinfo['author_list'] = pap_authors_dict"
   ]
  },
  {
   "cell_type": "code",
   "execution_count": 40,
   "id": "b8f2e629-b9a6-4a73-888e-c6fee99f3b59",
   "metadata": {},
   "outputs": [],
   "source": [
    "dfinfo['affil_list'] = dftriple.groupby('paper_id')['paper_raw_affiliation_string'].\\\n",
    "apply(lambda x: x.tolist())"
   ]
  },
  {
   "cell_type": "code",
   "execution_count": 41,
   "id": "d614277a-c969-4171-8b95-8d2ce8b85f91",
   "metadata": {},
   "outputs": [],
   "source": [
    "dfinfo['author_list'] =  dftriple.groupby('paper_id')['paper_author_display_name'].\\\n",
    "apply(lambda x: x.tolist())"
   ]
  },
  {
   "cell_type": "code",
   "execution_count": 42,
   "id": "e4b45a06-92ee-4968-b0c2-712d50340adf",
   "metadata": {},
   "outputs": [],
   "source": [
    "dfinfo['wrapped_affil_list'] = dfinfo['affil_list'].apply(str).apply(wrap_it)\n",
    "dfinfo['wrapped_author_list'] = dfinfo['author_list'].apply(str).apply(wrap_it)"
   ]
  },
  {
   "cell_type": "code",
   "execution_count": 43,
   "id": "ccd84664-71bd-46ba-a9c2-00135d09af74",
   "metadata": {},
   "outputs": [],
   "source": [
    "dfinfo['wrapped_keywords'] = dfinfo['keywords'].apply(str).apply(wrap_it)\n"
   ]
  },
  {
   "cell_type": "code",
   "execution_count": 44,
   "id": "8cf5dc2d-3647-4843-a7c6-1f8ae72f47bd",
   "metadata": {},
   "outputs": [],
   "source": [
    "def get_source_name(loc_list):\n",
    "    \"\"\"\n",
    "    grab the first item in the list;\n",
    "    retturn the display name\n",
    "    \"\"\"\n",
    "    try:\n",
    "        primary = loc_list[0]\n",
    "        return primary[\"source\"][\"display_name\"]\n",
    "    except:\n",
    "        return None\n",
    "\n",
    "def get_source_type(loc_list):\n",
    "    \"\"\"\n",
    "    grab the first item in the list;\n",
    "    return the source type\n",
    "    \"\"\"\n",
    "    try:\n",
    "        primary = loc_list[0]\n",
    "        return primary[\"source\"][\"type\"]\n",
    "    except:\n",
    "        return None\n",
    "    "
   ]
  },
  {
   "cell_type": "code",
   "execution_count": 45,
   "id": "3f2f1f9e-9f4d-4ba2-ad70-025b44ad5667",
   "metadata": {},
   "outputs": [],
   "source": [
    "dfinfo[\"source\"] = dfinfo[\"locations\"].apply(get_source_name)\n",
    "dfinfo[\"source_type\"] = dfinfo[\"locations\"].apply(get_source_type)"
   ]
  },
  {
   "cell_type": "code",
   "execution_count": 46,
   "id": "ba723f0e-de60-489f-a958-74db4edb59cd",
   "metadata": {},
   "outputs": [],
   "source": [
    "dfinfo.to_pickle('sgdfinfo2d.pkl')"
   ]
  },
  {
   "cell_type": "code",
   "execution_count": 47,
   "id": "a0002192-3656-43e9-b947-167b2fe8c85b",
   "metadata": {},
   "outputs": [],
   "source": [
    "def get_funder_names(funder_list):\n",
    "    \"\"\"\n",
    "    funder_list is a list of dictionaries\n",
    "    with three keys; return the list of \n",
    "    unique **funder_display_name**\n",
    "    values\n",
    "    \"\"\"\n",
    "    try:\n",
    "        funder_names = list(set([f['funder_display_name'] for f in funder_list]))\n",
    "        return funder_names    \n",
    "    except:\n",
    "        return []\n",
    "        "
   ]
  },
  {
   "cell_type": "code",
   "execution_count": 48,
   "id": "8178c67f-8ceb-4fdd-af6c-7b2829279bd7",
   "metadata": {},
   "outputs": [],
   "source": [
    "dftriple[\"source\"] = dftriple[\"paper_locations\"].apply(get_source_name)\n",
    "dftriple[\"source_type\"] = dftriple[\"paper_locations\"].apply(get_source_type)\n",
    "dftriple[\"funder_list\"] = dftriple[\"paper_grants\"].apply(get_funder_names)"
   ]
  },
  {
   "cell_type": "code",
   "execution_count": 49,
   "id": "4d93a2e5-2344-4e70-847a-4d37e7d37fcf",
   "metadata": {},
   "outputs": [],
   "source": [
    "dftriple.to_pickle('sgdftriple2d.pkl')"
   ]
  },
  {
   "cell_type": "code",
   "execution_count": 50,
   "id": "4e869e4b-9ef7-4d75-a047-591160c40c8d",
   "metadata": {},
   "outputs": [],
   "source": [
    "def get_journals_cluster_sort(dc:pd.DataFrame, cl:int):\n",
    "    \"\"\"\n",
    "    restricts the dataframe dc to cluster value cl\n",
    "    and returns the results grouped by source (where\n",
    "    source_type == 'journal') sorted\n",
    "    by the some of probablity descending\n",
    "    \"\"\"\n",
    "    dg = dc[dc['paper_cluster'] == cl].copy()\n",
    "    print(cl)\n",
    "    dv = dg[dg['source_type'] == 'journal'].groupby(['source'])['paper_cluster_score'].sum().to_frame()\n",
    "    dv.sort_values('paper_cluster_score', ascending=False, inplace=True)\n",
    "    kw = centroids[centroids.cluster == cl]['keywords'].iloc[0]\n",
    "    return dv, kw"
   ]
  },
  {
   "cell_type": "code",
   "execution_count": 51,
   "id": "b7c87744-054a-40c7-a113-bd0781f5431f",
   "metadata": {},
   "outputs": [],
   "source": [
    "def get_conferences_cluster_sort(dc:pd.DataFrame, cl:int):\n",
    "    \"\"\"\n",
    "    restricts the dataframe dc to cluster value cl\n",
    "    and returns the results grouped by source (where\n",
    "    source_type == 'journal') sorted\n",
    "    by the some of probablity descending\n",
    "    \"\"\"\n",
    "    dg = dc[dc['paper_cluster'] == cl].copy()\n",
    "    print(cl)\n",
    "    dv = dg[dg['source_type'] == 'conference'].groupby(['source'])['paper_cluster_score'].sum().to_frame()\n",
    "    dv.sort_values('paper_cluster_score', ascending=False, inplace=True)\n",
    "    kw = centroids[centroids.cluster == cl]['keywords'].iloc[0]\n",
    "    return dv, kw"
   ]
  },
  {
   "cell_type": "code",
   "execution_count": 52,
   "id": "738c0ed4-b211-4ddd-8456-2bd2e3c7d5fb",
   "metadata": {},
   "outputs": [
    {
     "name": "stdout",
     "output_type": "stream",
     "text": [
      "10\n",
      "['piezoelectric energy harvester', 'energy harvester', 'energy harvesting', 'vibration energy harvesting', 'energy', 'piezoelectric energy', 'vibration energy', 'vibration energy harvester', 'energy harvesting performance', 'vibration', 'harvester', 'triboelectric energy harvester', 'Hybrid Energy Harvester', 'mechanical energy harvesters', 'Energy Harvesting Technology', 'wind energy harvesting', 'harvesting', 'electromagnetic energy harvester', 'wind energy harvesters', 'galloping piezoelectric energy']\n"
     ]
    },
    {
     "data": {
      "text/html": [
       "<div>\n",
       "<style scoped>\n",
       "    .dataframe tbody tr th:only-of-type {\n",
       "        vertical-align: middle;\n",
       "    }\n",
       "\n",
       "    .dataframe tbody tr th {\n",
       "        vertical-align: top;\n",
       "    }\n",
       "\n",
       "    .dataframe thead th {\n",
       "        text-align: right;\n",
       "    }\n",
       "</style>\n",
       "<table border=\"1\" class=\"dataframe\">\n",
       "  <thead>\n",
       "    <tr style=\"text-align: right;\">\n",
       "      <th></th>\n",
       "      <th>paper_cluster_score</th>\n",
       "    </tr>\n",
       "    <tr>\n",
       "      <th>source</th>\n",
       "      <th></th>\n",
       "    </tr>\n",
       "  </thead>\n",
       "  <tbody>\n",
       "    <tr>\n",
       "      <th>Mechanical Systems and Signal Processing</th>\n",
       "      <td>22.71339</td>\n",
       "    </tr>\n",
       "    <tr>\n",
       "      <th>Symmetry</th>\n",
       "      <td>13.0</td>\n",
       "    </tr>\n",
       "    <tr>\n",
       "      <th>Micromachines</th>\n",
       "      <td>10.808485</td>\n",
       "    </tr>\n",
       "    <tr>\n",
       "      <th>Energy Conversion and Management</th>\n",
       "      <td>10.655077</td>\n",
       "    </tr>\n",
       "    <tr>\n",
       "      <th>Science Bulletin</th>\n",
       "      <td>9.594271</td>\n",
       "    </tr>\n",
       "    <tr>\n",
       "      <th>International Journal of Mechanical Sciences</th>\n",
       "      <td>9.191444</td>\n",
       "    </tr>\n",
       "    <tr>\n",
       "      <th>Nanomaterials</th>\n",
       "      <td>8.850609</td>\n",
       "    </tr>\n",
       "    <tr>\n",
       "      <th>Sensors and Actuators A-physical</th>\n",
       "      <td>8.606137</td>\n",
       "    </tr>\n",
       "    <tr>\n",
       "      <th>Journal of Physics D</th>\n",
       "      <td>7.0</td>\n",
       "    </tr>\n",
       "    <tr>\n",
       "      <th>Applied Energy</th>\n",
       "      <td>7.0</td>\n",
       "    </tr>\n",
       "  </tbody>\n",
       "</table>\n",
       "</div>"
      ],
      "text/plain": [
       "                                             paper_cluster_score\n",
       "source                                                          \n",
       "Mechanical Systems and Signal Processing                22.71339\n",
       "Symmetry                                                    13.0\n",
       "Micromachines                                          10.808485\n",
       "Energy Conversion and Management                       10.655077\n",
       "Science Bulletin                                        9.594271\n",
       "International Journal of Mechanical Sciences            9.191444\n",
       "Nanomaterials                                           8.850609\n",
       "Sensors and Actuators A-physical                        8.606137\n",
       "Journal of Physics D                                         7.0\n",
       "Applied Energy                                               7.0"
      ]
     },
     "execution_count": 52,
     "metadata": {},
     "output_type": "execute_result"
    }
   ],
   "source": [
    "dv84, kw84 = get_journals_cluster_sort(dftriple, 10)\n",
    "print(kw84)\n",
    "dv84.head(10)"
   ]
  },
  {
   "cell_type": "code",
   "execution_count": 53,
   "id": "c563f39d-1d63-4cc2-91af-92385f52f4e7",
   "metadata": {},
   "outputs": [],
   "source": [
    "def get_country_collaborations_sort(dc:pd.DataFrame, cl:int):\n",
    "    \"\"\"\n",
    "    resticts the dataframe dc to cluster value cl\n",
    "    and returns the results of paper_id s where there is \n",
    "    more than one country_code\n",
    "    \"\"\"\n",
    "    dg = dc[dc['paper_cluster'] == cl].copy()\n",
    "    dv = dg.groupby('paper_id')['country_code'].apply(lambda x: len(set(x.values))).to_frame()\n",
    "    dc = dg.groupby('paper_id')['country_code'].apply(lambda x: list(set(x.values))).to_frame()\n",
    "    dc.columns = ['collab_countries']\n",
    "    dv.columns = ['country_count']\n",
    "    dv['collab_countries'] = dc['collab_countries']\n",
    "    dv.sort_values('country_count',ascending=False, inplace=True)\n",
    "    di = dfinfo.loc[dv.index].copy()\n",
    "    di['country_count'] = dv['country_count']\n",
    "    di['collab_countries'] = dv['collab_countries']\n",
    "    return di[di['country_count'] > 1]"
   ]
  },
  {
   "cell_type": "code",
   "execution_count": 54,
   "id": "74706707-1894-4730-8893-9657bb759b5f",
   "metadata": {},
   "outputs": [],
   "source": [
    "import networkx as nx\n",
    "from pyvis.network import Network\n",
    "import igraph as ig #"
   ]
  },
  {
   "cell_type": "code",
   "execution_count": 55,
   "id": "c65d0804-32bc-46b4-bd6a-eee43064aed4",
   "metadata": {},
   "outputs": [],
   "source": [
    "dfinfo[\"funder_list\"] = dfinfo[\"grants\"].apply(get_funder_names)\n",
    "dfinfo[\"wrapped_funder_list\"] = dfinfo[\"funder_list\"].apply(str).apply(wrap_it)"
   ]
  },
  {
   "cell_type": "code",
   "execution_count": 56,
   "id": "1e0fadc0-dace-41e4-8387-0458111c99b1",
   "metadata": {},
   "outputs": [],
   "source": [
    "\n",
    "dfinfo.to_pickle('sgdfinfo2d.pkl')\n"
   ]
  },
  {
   "cell_type": "code",
   "execution_count": 57,
   "id": "d72d162d-242e-4bd0-8465-3b761c73834c",
   "metadata": {},
   "outputs": [],
   "source": [
    "kw_dict = dfinfo['keywords'].to_dict()"
   ]
  },
  {
   "cell_type": "code",
   "execution_count": 58,
   "id": "32cc2a29-5f28-4be0-ba4e-255f7eef6770",
   "metadata": {},
   "outputs": [
    {
     "data": {
      "text/plain": [
       "(list, 7047)"
      ]
     },
     "execution_count": 58,
     "metadata": {},
     "output_type": "execute_result"
    }
   ],
   "source": [
    "sources_list = dftriple['source'].unique().tolist()\n",
    "type(sources_list), len(sources_list)"
   ]
  },
  {
   "cell_type": "code",
   "execution_count": 61,
   "id": "d7bb4b3f-2bc1-4831-9d36-990df2cb8a38",
   "metadata": {},
   "outputs": [],
   "source": [
    "def get_source_json(s:str):\n",
    "    \"\"\"\n",
    "    s is an openalex Sources display_name\n",
    "    return that Sources object\n",
    "    \"\"\"\n",
    "    source_json = Sources().filter(display_name = s).get()\n",
    "    a = source_json[0]['type']\n",
    "    if \"homepage_url\" in source_json[0] and source_json[0]['homepage_url']:\n",
    "      #  print(f\"{s} has homepage_url and type {source_json[0]['type']}\")\n",
    "        return source_json[0][\"homepage_url\"]\n",
    "    else:\n",
    "        return None"
   ]
  },
  {
   "cell_type": "code",
   "execution_count": 62,
   "id": "b3217c42-59b9-4c95-800e-5d9b2e2c0840",
   "metadata": {},
   "outputs": [],
   "source": [
    "def get_display_page_dict(sl:list):\n",
    "    \"\"\"\n",
    "    sl is a list of Sources display_name values\n",
    "    returns the dictionary mapping\n",
    "    display_names with homepage_url values.\"\"\"\n",
    "    mapping_dict = dict()\n",
    "    for s in tqdm(sl):\n",
    "        try:\n",
    "            mapping_dict[s] = get_source_json(s)\n",
    "        except:\n",
    "            pass\n",
    "    return mapping_dict"
   ]
  },
  {
   "cell_type": "code",
   "execution_count": 63,
   "id": "8571a993-21d4-4d91-b706-68ed8f62851f",
   "metadata": {},
   "outputs": [
    {
     "name": "stderr",
     "output_type": "stream",
     "text": [
      "100%|█████████████████████████████████████████████████████████████████████| 7047/7047 [57:50<00:00,  2.03it/s]\n"
     ]
    }
   ],
   "source": [
    "source_page_dict = get_display_page_dict(sources_list)"
   ]
  },
  {
   "cell_type": "code",
   "execution_count": 64,
   "id": "e77b3af3-40bd-4f7c-b204-a74448150d7d",
   "metadata": {},
   "outputs": [
    {
     "data": {
      "text/plain": [
       "591"
      ]
     },
     "execution_count": 64,
     "metadata": {},
     "output_type": "execute_result"
    }
   ],
   "source": [
    "len(source_page_dict)"
   ]
  },
  {
   "cell_type": "code",
   "execution_count": 65,
   "id": "5781023a-84cb-45a7-be81-c3164b0f8278",
   "metadata": {},
   "outputs": [],
   "source": [
    "import pickle\n",
    "\n",
    "with open(\"source_page_dict.pkl\", \"wb\") as f:\n",
    "    pickle.dump(source_page_dict, f)"
   ]
  },
  {
   "cell_type": "code",
   "execution_count": 66,
   "id": "3b4cad7e-ff33-4158-a175-9738994a56c9",
   "metadata": {},
   "outputs": [],
   "source": [
    "with open(\"source_page_dict.pkl\", \"rb\") as f:\n",
    "    source_dict = pickle.load(f)"
   ]
  },
  {
   "cell_type": "code",
   "execution_count": 67,
   "id": "fd20c222-a264-4255-b98a-779119aa86a6",
   "metadata": {},
   "outputs": [],
   "source": [
    "def get_journals_cluster_sort(dc:pd.DataFrame, cl:int):\n",
    "    \"\"\"\n",
    "    restricts the dataframe dc to cluster value cl\n",
    "    and returns the results grouped by source (where\n",
    "    source_type == 'journal') sorted\n",
    "    by the some of probablity descending\n",
    "    \"\"\"\n",
    "    dg = dc[dc['paper_cluster'] == cl].copy()\n",
    "    print(cl)\n",
    "    dv = dg[dg['source_type'] == 'journal'].groupby(['source'])['paper_cluster_score'].sum().to_frame()\n",
    "    dv.sort_values('paper_cluster_score', ascending=False, inplace=True)\n",
    "    dv['journal'] = dv.index\n",
    "    dv['hompage_url'] = dv['journal'].map(source_dict)\n",
    "    kw = centroids[centroids.cluster == cl]['keywords'].iloc[0]\n",
    "    return dv, kw"
   ]
  },
  {
   "cell_type": "code",
   "execution_count": 68,
   "id": "a75a0bcc-c8e3-425b-912b-d2ef7e1909e2",
   "metadata": {},
   "outputs": [
    {
     "name": "stdout",
     "output_type": "stream",
     "text": [
      "4\n"
     ]
    },
    {
     "data": {
      "text/html": [
       "<div>\n",
       "<style scoped>\n",
       "    .dataframe tbody tr th:only-of-type {\n",
       "        vertical-align: middle;\n",
       "    }\n",
       "\n",
       "    .dataframe tbody tr th {\n",
       "        vertical-align: top;\n",
       "    }\n",
       "\n",
       "    .dataframe thead th {\n",
       "        text-align: right;\n",
       "    }\n",
       "</style>\n",
       "<table border=\"1\" class=\"dataframe\">\n",
       "  <thead>\n",
       "    <tr style=\"text-align: right;\">\n",
       "      <th></th>\n",
       "      <th>paper_cluster_score</th>\n",
       "      <th>journal</th>\n",
       "      <th>hompage_url</th>\n",
       "    </tr>\n",
       "    <tr>\n",
       "      <th>source</th>\n",
       "      <th></th>\n",
       "      <th></th>\n",
       "      <th></th>\n",
       "    </tr>\n",
       "  </thead>\n",
       "  <tbody>\n",
       "    <tr>\n",
       "      <th>Journal of the American Medical Informatics Association</th>\n",
       "      <td>28.386823</td>\n",
       "      <td>Journal of the American Medical Informatics As...</td>\n",
       "      <td>NaN</td>\n",
       "    </tr>\n",
       "    <tr>\n",
       "      <th>Journal of Computing and Information Science in Engineering</th>\n",
       "      <td>11.0</td>\n",
       "      <td>Journal of Computing and Information Science i...</td>\n",
       "      <td>NaN</td>\n",
       "    </tr>\n",
       "    <tr>\n",
       "      <th>Expert Systems With Applications</th>\n",
       "      <td>8.0</td>\n",
       "      <td>Expert Systems With Applications</td>\n",
       "      <td>NaN</td>\n",
       "    </tr>\n",
       "    <tr>\n",
       "      <th>Journal of Mechanical Design</th>\n",
       "      <td>7.981787</td>\n",
       "      <td>Journal of Mechanical Design</td>\n",
       "      <td>NaN</td>\n",
       "    </tr>\n",
       "    <tr>\n",
       "      <th>Proceedings of the Design Society</th>\n",
       "      <td>7.225505</td>\n",
       "      <td>Proceedings of the Design Society</td>\n",
       "      <td>NaN</td>\n",
       "    </tr>\n",
       "  </tbody>\n",
       "</table>\n",
       "</div>"
      ],
      "text/plain": [
       "                                                   paper_cluster_score   \n",
       "source                                                                   \n",
       "Journal of the American Medical Informatics Ass...           28.386823  \\\n",
       "Journal of Computing and Information Science in...                11.0   \n",
       "Expert Systems With Applications                                   8.0   \n",
       "Journal of Mechanical Design                                  7.981787   \n",
       "Proceedings of the Design Society                             7.225505   \n",
       "\n",
       "                                                                                              journal   \n",
       "source                                                                                                  \n",
       "Journal of the American Medical Informatics Ass...  Journal of the American Medical Informatics As...  \\\n",
       "Journal of Computing and Information Science in...  Journal of Computing and Information Science i...   \n",
       "Expert Systems With Applications                                     Expert Systems With Applications   \n",
       "Journal of Mechanical Design                                             Journal of Mechanical Design   \n",
       "Proceedings of the Design Society                                   Proceedings of the Design Society   \n",
       "\n",
       "                                                   hompage_url  \n",
       "source                                                          \n",
       "Journal of the American Medical Informatics Ass...         NaN  \n",
       "Journal of Computing and Information Science in...         NaN  \n",
       "Expert Systems With Applications                           NaN  \n",
       "Journal of Mechanical Design                               NaN  \n",
       "Proceedings of the Design Society                          NaN  "
      ]
     },
     "execution_count": 68,
     "metadata": {},
     "output_type": "execute_result"
    }
   ],
   "source": [
    "dv, kw = get_journals_cluster_sort(dftriple, 4)\n",
    "dv.head()"
   ]
  },
  {
   "cell_type": "code",
   "execution_count": null,
   "id": "22afa382-8e6a-49da-9c9c-fe3b44d7090e",
   "metadata": {},
   "outputs": [
    {
     "name": "stderr",
     "output_type": "stream",
     "text": [
      "  0%|                                                                    | 21/13127 [00:09<1:32:49,  2.35it/s]"
     ]
    }
   ],
   "source": [
    "affils_list = dftriple['display_name'].unique().tolist()\n",
    "type(affils_list), len(affils_list)\n",
    "\n",
    "affil_json = Institutions().filter(display_name = affils_list[1]).get()\n",
    "\n",
    "def get_affil_json(s:str):\n",
    "    \"\"\"\n",
    "    s is an openalex Sources display_name\n",
    "    return that Sources object\n",
    "    \"\"\"\n",
    "    affil_json = Institutions().filter(display_name = s).get()\n",
    "    #a = source_json[0]['type']\n",
    "    if \"geo\" in affil_json[0]:\n",
    "       # print(f\"{s} has homepage_url and type {source_json[0]['type']}\")\n",
    "        return affil_json[0][\"geo\"][\"latitude\"], affil_json[0][\"geo\"][\"longitude\"]\n",
    "    else:\n",
    "        return None, None\n",
    "    \n",
    "def get_display_geo_dict(sl:list):\n",
    "    \"\"\"\n",
    "    sl is a list of Institution display_name values\n",
    "    returns the dictionary mapping\n",
    "    display_names with (latitude, longitude) values.\"\"\"\n",
    "    mapping_dict = dict()\n",
    "    for s in tqdm(sl):\n",
    "        try:\n",
    "            mapping_dict[s] = get_affil_json(s)\n",
    "        except:\n",
    "            pass\n",
    "    return mapping_dict\n",
    "\n",
    "affil_geo_dict = get_display_geo_dict(affils_list)\n",
    "\n",
    "\n",
    "import pickle\n",
    "\n",
    "with open(\"affil_geo_dict.pkl\", \"wb\") as f:\n",
    "    pickle.dump(affil_geo_dict, f)"
   ]
  },
  {
   "cell_type": "code",
   "execution_count": null,
   "id": "7f7715df-e0cf-435b-9db0-04322f6380b6",
   "metadata": {},
   "outputs": [],
   "source": []
  }
 ],
 "metadata": {
  "kernelspec": {
   "display_name": "Python 3 (ipykernel)",
   "language": "python",
   "name": "python3"
  },
  "language_info": {
   "codemirror_mode": {
    "name": "ipython",
    "version": 3
   },
   "file_extension": ".py",
   "mimetype": "text/x-python",
   "name": "python",
   "nbconvert_exporter": "python",
   "pygments_lexer": "ipython3",
   "version": "3.10.6"
  }
 },
 "nbformat": 4,
 "nbformat_minor": 5
}
